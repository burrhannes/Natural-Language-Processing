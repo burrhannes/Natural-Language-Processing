{
 "cells": [
  {
   "cell_type": "code",
   "execution_count": 2,
   "metadata": {},
   "outputs": [],
   "source": [
    "# Load some libraries we will use below.\n",
    "import matplotlib, sklearn, numpy as np, matplotlib.pyplot as plt, math\n",
    "%matplotlib inline\n",
    "plt.rcParams[\"figure.figsize\"] = (8,5)"
   ]
  },
  {
   "cell_type": "code",
   "execution_count": 3,
   "metadata": {},
   "outputs": [],
   "source": [
    "import pandas as pd\n",
    "from time import time\n"
   ]
  },
  {
   "cell_type": "markdown",
   "metadata": {},
   "source": [
    "## Load the raw data"
   ]
  },
  {
   "cell_type": "code",
   "execution_count": 4,
   "metadata": {},
   "outputs": [
    {
     "name": "stdout",
     "output_type": "stream",
     "text": [
      "10126\n"
     ]
    }
   ],
   "source": [
    "import gzip, json, re\n",
    "raw = json.load(gzip.open(\"simpsonswiki.json.gz\", \"rt\", encoding=\"utf-8\"))\n",
    "print(len(raw))"
   ]
  },
  {
   "cell_type": "code",
   "execution_count": 5,
   "metadata": {},
   "outputs": [
    {
     "name": "stdout",
     "output_type": "stream",
     "text": [
      "Bart Jumps is the third Simpsons short which aired on The Tracey Ullman Show on May 10, 1987.\n",
      "\n",
      "Plot\n",
      "\n",
      "This Simpsons short opens with Bart attempting to jump into Homer’s arms \"just like the good old days\". The first time Bart jumps, he lands on his head, bouncing and falling on the floor. Once again, Bart prepares to jump. Bart asks Homer why this task is necessary, while Homer asserts that it is always because he has been so jumpy. Bart jumps again, but because Homer was laughing at the previous comment, he fails to catch Bart. Bart gets a bandage and a bruise from a previous jump. Again Bart jumps, but Homer is distracted while he attempts to work out the past tense of the word \"leap\". He collects the dictionary and discovers they are both acceptable, and once again Bart lies on the floor. For the final time, Bart is ready to jump. As Homer goes to answer the door, Bart closes his eyes and leaps. As he lies on his back, Homer returns with two pairs of boxing gloves announcing they have arrived.\n"
     ]
    }
   ],
   "source": [
    "# Inspect the text of the second object\n",
    "print(raw[2]['text'])"
   ]
  },
  {
   "cell_type": "markdown",
   "metadata": {},
   "source": [
    "## 2-1 Preprocess the Text\n",
    "\n",
    "Process the text into a list of word tokens.\n",
    "\n",
    "You are free to experiment with more advanced techniques for your project, but as a baseline you should remove capitalization, non-word characters and perform some basic word filtering (e.g., remove stopwords, remove words of length less than 3, etc.)."
   ]
  },
  {
   "cell_type": "code",
   "execution_count": 6,
   "metadata": {},
   "outputs": [],
   "source": [
    "import nltk\n",
    "from nltk.corpus import stopwords\n",
    "\n",
    "from nltk import word_tokenize\n"
   ]
  },
  {
   "cell_type": "code",
   "execution_count": 7,
   "metadata": {},
   "outputs": [],
   "source": [
    "#let's use the stopwords from nltk\n",
    "stop_words = set(stopwords.words('english'))"
   ]
  },
  {
   "cell_type": "code",
   "execution_count": 8,
   "metadata": {},
   "outputs": [],
   "source": [
    "tokens = []\n",
    "\n",
    "#tokenize our documents by iterating over each text with basic preprocessing\n",
    "for index in range(len(raw)):\n",
    "    tokens.append([w for w in word_tokenize(raw[index]['text'].lower()) \n",
    "                                        if len(w)>3 and not w in stop_words])"
   ]
  },
  {
   "cell_type": "code",
   "execution_count": 9,
   "metadata": {},
   "outputs": [],
   "source": [
    "all_tokens = []\n",
    "\n",
    "for i in range(len(tokens)):\n",
    "    for word in tokens[i]:\n",
    "        all_tokens.append(word)\n",
    "        \n",
    "all_tokens = set(all_tokens)\n",
    "#this will be helpful later"
   ]
  },
  {
   "cell_type": "code",
   "execution_count": 10,
   "metadata": {},
   "outputs": [
    {
     "name": "stdout",
     "output_type": "stream",
     "text": [
      "['bart', 'jumps', 'third', 'simpsons', 'short', 'aired', 'tracey', 'ullman', 'show', '1987.', 'plot', 'simpsons', 'short', 'opens', 'bart', 'attempting', 'jump', 'homer', 'arms', 'like', 'good', 'days', 'first', 'time', 'bart', 'jumps', 'lands', 'head', 'bouncing', 'falling', 'floor', 'bart', 'prepares', 'jump', 'bart', 'asks', 'homer', 'task', 'necessary', 'homer', 'asserts', 'always', 'jumpy', 'bart', 'jumps', 'homer', 'laughing', 'previous', 'comment', 'fails', 'catch', 'bart', 'bart', 'gets', 'bandage', 'bruise', 'previous', 'jump', 'bart', 'jumps', 'homer', 'distracted', 'attempts', 'work', 'past', 'tense', 'word', 'leap', 'collects', 'dictionary', 'discovers', 'acceptable', 'bart', 'lies', 'floor', 'final', 'time', 'bart', 'ready', 'jump', 'homer', 'goes', 'answer', 'door', 'bart', 'closes', 'eyes', 'leaps', 'lies', 'back', 'homer', 'returns', 'pairs', 'boxing', 'gloves', 'announcing', 'arrived']"
     ]
    }
   ],
   "source": [
    "#this is the tokenized text from above\n",
    "print(tokens[2], end='')"
   ]
  },
  {
   "cell_type": "markdown",
   "metadata": {},
   "source": [
    "## 2-2 Built a simple inverted index\n",
    "\n",
    "It is enough to use a dictionary for this, mapping words to sorted lists of documents. Do not consider duplicate words, no position information. You do not need to optimize the code, not even numpy is necessary, as this data set is small.\n",
    "\n",
    "Use your *index* to answer the following questions:\n",
    "\n",
    "* how many different words do you have after your preprocessing above?\n"
   ]
  },
  {
   "cell_type": "code",
   "execution_count": 11,
   "metadata": {},
   "outputs": [],
   "source": [
    "from collections import defaultdict"
   ]
  },
  {
   "cell_type": "markdown",
   "metadata": {},
   "source": [
    "I will be using python's defaultdict."
   ]
  },
  {
   "cell_type": "code",
   "execution_count": 12,
   "metadata": {},
   "outputs": [],
   "source": [
    "def create_index_set (documents):\n",
    "    index_set = defaultdict(set)\n",
    "    for i, tokens in enumerate(documents):\n",
    "        for token in tokens:\n",
    "            index_set[token].add(i)\n",
    "    return index_set"
   ]
  },
  {
   "cell_type": "code",
   "execution_count": 13,
   "metadata": {},
   "outputs": [],
   "source": [
    "index_set = create_index_set(tokens)\n"
   ]
  },
  {
   "cell_type": "code",
   "execution_count": 14,
   "metadata": {},
   "outputs": [
    {
     "name": "stdout",
     "output_type": "stream",
     "text": [
      "The word \"language\" is used in the following documents: {129, 8451, 644, 902, 1287, 2953, 1546, 2317, 1040, 1938, 7447, 9753, 29, 542, 159, 3614, 3615, 3617, 675, 3620, 6179, 9632, 10016, 297, 298, 3243, 301, 429, 56, 2234, 59, 3259, 834, 1479, 6087, 6217, 334, 7761, 3157, 216, 9049, 2397, 4061, 8163, 2155, 750, 495, 112, 6640, 7540, 1143, 252, 382}\n"
     ]
    }
   ],
   "source": [
    "ind_language = index_set['language']\n",
    "\n",
    "print('The word \"language\" is used in the following documents:',ind_language)"
   ]
  },
  {
   "cell_type": "code",
   "execution_count": 15,
   "metadata": {},
   "outputs": [],
   "source": [
    "def count_occ(tokens):\n",
    "    count = defaultdict(int)\n",
    "    for i, doc in enumerate(tokens):\n",
    "        for token in doc:\n",
    "            count[token] = len(index_set[token])\n",
    "    return count"
   ]
  },
  {
   "cell_type": "code",
   "execution_count": 16,
   "metadata": {},
   "outputs": [],
   "source": [
    "token_count = count_occ(tokens)"
   ]
  },
  {
   "cell_type": "code",
   "execution_count": 17,
   "metadata": {},
   "outputs": [
    {
     "data": {
      "text/plain": [
       "53"
      ]
     },
     "execution_count": 17,
     "metadata": {},
     "output_type": "execute_result"
    }
   ],
   "source": [
    "token_count['language']"
   ]
  },
  {
   "cell_type": "code",
   "execution_count": 18,
   "metadata": {},
   "outputs": [
    {
     "name": "stdout",
     "output_type": "stream",
     "text": [
      "A total of 44823 Tokens remain after Preprocessing\n"
     ]
    }
   ],
   "source": [
    "print(\"A total of\", len(index_set.keys()), \"Tokens remain after Preprocessing\")"
   ]
  },
  {
   "cell_type": "markdown",
   "metadata": {},
   "source": [
    "* how many words occur in at least 10 documents?\n"
   ]
  },
  {
   "cell_type": "code",
   "execution_count": 19,
   "metadata": {},
   "outputs": [],
   "source": [
    "tokens_ten = []\n",
    "\n",
    "for i in range(len(tokens)):\n",
    "    for xyz in tokens[i]:\n",
    "        if token_count.get(xyz)>9:\n",
    "            tokens_ten.append(xyz)\n",
    "            \n",
    "distinct_tokens_ten = set(tokens_ten)"
   ]
  },
  {
   "cell_type": "code",
   "execution_count": 20,
   "metadata": {},
   "outputs": [
    {
     "name": "stdout",
     "output_type": "stream",
     "text": [
      "Only 8447 tokenized words occur at least ten times.\n"
     ]
    }
   ],
   "source": [
    "print(\"Only\", len(distinct_tokens_ten), \"tokenized words occur at least ten times.\")"
   ]
  },
  {
   "cell_type": "markdown",
   "metadata": {},
   "source": [
    "* what are the 20 most frequent words (by document frequency)?"
   ]
  },
  {
   "cell_type": "code",
   "execution_count": 21,
   "metadata": {},
   "outputs": [
    {
     "name": "stdout",
     "output_type": "stream",
     "text": [
      "[('homer', 4307), ('springfield', 3339), ('bart', 3261), ('history', 3092), ('lisa', 2729), ('simpson', 2705), ('marge', 2494), ('simpsons', 2207), ('also', 2117), ('episode', 2108), ('family', 1810), ('however', 1492), ('first', 1463), ('song', 1414), ('season', 1411), ('like', 1363), ('later', 1350), ('show', 1321), ('behind', 1302), ('back', 1274)]"
     ]
    }
   ],
   "source": [
    "from collections import Counter\n",
    "\n",
    "print(Counter(token_count).most_common(20), end='')"
   ]
  },
  {
   "cell_type": "markdown",
   "metadata": {},
   "source": [
    "Mostly unsurprising words like the names of the characters, the city and some places.\n"
   ]
  },
  {
   "cell_type": "markdown",
   "metadata": {},
   "source": [
    "## 2-3 Implement an index query\n",
    "\n",
    "Implement a function that *uses the index* to find documents containing the search terms.\n",
    "Use a list \"merge\" operation instead of \"set\" operations.\n",
    "\n",
    "Use this index to answer the following searches:\n",
    "\n",
    "* number of documents containing \"bart\"\n",
    "* number of documents containing \"lisa\"\n",
    "* number of documents containing \"bart\" and \"lisa\"\n",
    "* number of documents containing \"bart\", \"lisa\", \"homer\" and \"maggie\"\n",
    "\n"
   ]
  },
  {
   "cell_type": "code",
   "execution_count": 22,
   "metadata": {},
   "outputs": [],
   "source": [
    "def find_docs(*list):\n",
    "    words = []\n",
    "    for i in len(list):\n",
    "        words.append(index_set[list[i]])\n",
    "    return set.intersection(*map(set,words))\n",
    "    "
   ]
  },
  {
   "cell_type": "markdown",
   "metadata": {},
   "source": [
    "Something like this a function for this task might look like.\n",
    "However, I am unable to make it be flexible regarding the number of words given as an input.\n",
    "Therefore, I will need to answer the questions by hand."
   ]
  },
  {
   "cell_type": "code",
   "execution_count": 24,
   "metadata": {},
   "outputs": [
    {
     "name": "stdout",
     "output_type": "stream",
     "text": [
      "Number of documents containing 'lisa': 2729\n"
     ]
    }
   ],
   "source": [
    "lisa= index_set['lisa']\n",
    "\n",
    "print(\"Number of documents containing 'lisa':\", len(lisa) )"
   ]
  },
  {
   "cell_type": "code",
   "execution_count": 25,
   "metadata": {},
   "outputs": [
    {
     "name": "stdout",
     "output_type": "stream",
     "text": [
      "Number of documents containing 'bart': 3261\n"
     ]
    }
   ],
   "source": [
    "bart = index_set['bart']\n",
    "\n",
    "print(\"Number of documents containing 'bart':\", len(bart) )"
   ]
  },
  {
   "cell_type": "code",
   "execution_count": 26,
   "metadata": {},
   "outputs": [
    {
     "name": "stdout",
     "output_type": "stream",
     "text": [
      "Number of documents containing both lisa and bart: 1782\n"
     ]
    }
   ],
   "source": [
    "print(\"Number of documents containing both lisa and bart:\",len(set.intersection(lisa,bart)))"
   ]
  },
  {
   "cell_type": "code",
   "execution_count": 27,
   "metadata": {},
   "outputs": [
    {
     "name": "stdout",
     "output_type": "stream",
     "text": [
      "Number of documents with the whole Simpsons Family: 1123\n"
     ]
    }
   ],
   "source": [
    "homer = index_set['homer']\n",
    "marge = index_set['marge']\n",
    "\n",
    "print(\"Number of documents with the whole Simpsons Family:\",len(set.intersection(lisa,marge,homer,bart)))"
   ]
  },
  {
   "cell_type": "markdown",
   "metadata": {},
   "source": [
    "These results pass the sanity test, that with more filters the number of results declines."
   ]
  },
  {
   "cell_type": "markdown",
   "metadata": {},
   "source": [
    "* how many words do you have in the index that occur at least 10 times, but only *once* in the same document as \"bart\"? Give some examples.\n",
    "* pick one of these words and verify *without* using the index that this assertion is correct"
   ]
  },
  {
   "cell_type": "code",
   "execution_count": 28,
   "metadata": {},
   "outputs": [],
   "source": [
    "special_words = []\n",
    "\n",
    "for w in index_set:\n",
    "    if token_count.get(w)>9 and len(set.intersection(bart,index_set[w])) == 1:\n",
    "        special_words.append(w)\n",
    "    else: None"
   ]
  },
  {
   "cell_type": "code",
   "execution_count": 29,
   "metadata": {},
   "outputs": [
    {
     "name": "stdout",
     "output_type": "stream",
     "text": [
      "Exactly these 23 meet these special criteria\n",
      "['clarice', 'cassidy', 'busman', 'admiral', 'great-great-great-great', '1953', 'l.a.', 'font-weight', 'allegations', 'hamill', 'bless', 'copperfield', 'biker', 'bret', 'michele', '1944', 'badges', 'hernandez', 'mile', 'kabins', 'hardwick', 'ballantyne', 'nora']"
     ]
    }
   ],
   "source": [
    "print(\"Exactly these\", len(special_words), \"meet these special criteria\")\n",
    "print(special_words, end='')"
   ]
  },
  {
   "cell_type": "markdown",
   "metadata": {},
   "source": [
    "Let's further inspect 'admiral'.\n",
    "We will go through the tokenized text and memorize documents where our criteria are met."
   ]
  },
  {
   "cell_type": "code",
   "execution_count": 30,
   "metadata": {},
   "outputs": [],
   "source": [
    "admiral_docs = []\n",
    "both_in = []\n",
    "\n",
    "for doc in range(len(tokens)):\n",
    "    if 'admiral' in tokens[doc]:\n",
    "        admiral_docs.append(doc)\n",
    "    else: None\n",
    "    if 'admiral' in tokens[doc] and 'bart' in tokens[doc]:\n",
    "        both_in.append(doc)\n",
    "    else: None\n"
   ]
  },
  {
   "cell_type": "code",
   "execution_count": 31,
   "metadata": {},
   "outputs": [
    {
     "name": "stdout",
     "output_type": "stream",
     "text": [
      "Admiral actually occurs in 12 documents. And also precicely in 1 document togehter with Bart:\n"
     ]
    }
   ],
   "source": [
    "print(\"Admiral actually occurs in\", len(admiral_docs), \n",
    "      \"documents. And also precicely in\", len(both_in), \"document togehter with Bart:\")"
   ]
  },
  {
   "cell_type": "code",
   "execution_count": 32,
   "metadata": {},
   "outputs": [
    {
     "name": "stdout",
     "output_type": "stream",
     "text": [
      "The document where both 'admiral' and 'bart' occur is: Otto Mann\n"
     ]
    }
   ],
   "source": [
    "print(\"The document where both 'admiral' and 'bart' occur is:\", raw[both_in.pop()]['title'])"
   ]
  },
  {
   "cell_type": "markdown",
   "metadata": {},
   "source": [
    "Inspecting the text, we see that this is a correct result."
   ]
  },
  {
   "cell_type": "markdown",
   "metadata": {},
   "source": [
    "## 2-4 TF-IDF\n",
    "\n",
    "Compute TF-IDF vectors for each document. Try to get the standard \"ltc\" version of TF-IDF.\n",
    "Remove english stopwords, and words that occur only once.\n",
    "\n",
    "* Verify that the length of all vectors is close to 1\n",
    "* Find the most similar *other* document to the document titled \"Good Night\"\n",
    "* Print that document, and compare it to \"Good Night\" subjectively\n",
    "\n",
    "Hint: it should be very easy to see that your result is plausible."
   ]
  },
  {
   "cell_type": "code",
   "execution_count": 33,
   "metadata": {},
   "outputs": [],
   "source": [
    "### YOUR CODE HERE"
   ]
  },
  {
   "cell_type": "code",
   "execution_count": 34,
   "metadata": {},
   "outputs": [],
   "source": [
    "from sklearn.feature_extraction.text import CountVectorizer"
   ]
  },
  {
   "cell_type": "code",
   "execution_count": 35,
   "metadata": {},
   "outputs": [],
   "source": [
    "# transform our text corpus into the shape sklearn's TfidfVectorizer expects:\n",
    "# List of comma-seperated documents\n",
    "\n",
    "all_text = []\n",
    "\n",
    "for i in range(len(raw)):\n",
    "    all_text.append(raw[i]['text'])"
   ]
  },
  {
   "cell_type": "code",
   "execution_count": 36,
   "metadata": {},
   "outputs": [],
   "source": [
    "from sklearn.feature_extraction.text import TfidfVectorizer\n",
    "\n",
    "# use the preprocessed tokens as vocabulary\n",
    "vectorizer = TfidfVectorizer(vocabulary=all_tokens, min_df=3)\n",
    "\n",
    "#and fit the vectorizer onto the text corpus\n",
    "tfidf = vectorizer.fit_transform(all_text)"
   ]
  },
  {
   "cell_type": "code",
   "execution_count": 37,
   "metadata": {},
   "outputs": [],
   "source": [
    "features = vectorizer.get_feature_names()"
   ]
  },
  {
   "cell_type": "code",
   "execution_count": 38,
   "metadata": {},
   "outputs": [],
   "source": [
    "# assert that all vectors are close to length 1\n",
    "\n",
    "tf_arr = tfidf.toarray()\n",
    "\n",
    "vec_len =[]\n",
    "\n",
    "for i in range(len(tf_arr)):\n",
    "    vec_len.append( np.linalg.norm(tf_arr[i]) )\n",
    "\n",
    "\n",
    "#print(vec_len)"
   ]
  },
  {
   "cell_type": "markdown",
   "metadata": {},
   "source": [
    "Via visual inspection we see that all vector lengths are virtually equal to 1, which they are supposed to be since sklearn's documentation says so. The deviations seem to be due to numerical instabilities.\n",
    "Therefore, to find Cosine Distance calculating the dot product is sufficient, since the denominator is (very close to) 1 "
   ]
  },
  {
   "cell_type": "code",
   "execution_count": 39,
   "metadata": {},
   "outputs": [],
   "source": [
    "from sklearn.metrics.pairwise import linear_kernel\n",
    "cosine_similarities = linear_kernel(tfidf[0:1], tfidf).flatten()"
   ]
  },
  {
   "cell_type": "code",
   "execution_count": 40,
   "metadata": {},
   "outputs": [
    {
     "name": "stdout",
     "output_type": "stream",
     "text": [
      "[   0 8222 3618 4042]\n"
     ]
    }
   ],
   "source": [
    "related_docs_indices = cosine_similarities.argsort()[:-5:-1]\n",
    "print(related_docs_indices)"
   ]
  },
  {
   "cell_type": "code",
   "execution_count": 41,
   "metadata": {},
   "outputs": [
    {
     "name": "stdout",
     "output_type": "stream",
     "text": [
      "The document we're looking for is: Rock-A-Bye Baby\n"
     ]
    }
   ],
   "source": [
    "print(\"The document we're looking for is:\", raw[8222]['title'])"
   ]
  },
  {
   "cell_type": "code",
   "execution_count": 42,
   "metadata": {},
   "outputs": [
    {
     "name": "stdout",
     "output_type": "stream",
     "text": [
      "With a Cosine-Similarity of 0.351\n"
     ]
    }
   ],
   "source": [
    "print(\"With a Cosine-Similarity of\", round(cosine_similarities[8222],3))"
   ]
  },
  {
   "cell_type": "markdown",
   "metadata": {},
   "source": [
    "This is probably due to the fact that the second episode is a reference to the first with the same song mentioned in both descriptions which contains quite unique words."
   ]
  },
  {
   "cell_type": "markdown",
   "metadata": {},
   "source": [
    "\n",
    "## Hierarchical Clustering"
   ]
  },
  {
   "cell_type": "markdown",
   "metadata": {},
   "source": [
    "## 3-1 Cosine Similarity\n",
    "* compute the pairwise cosine similarity matrix using your own code, not a library such as sklearn (numpy is okay).\n",
    "* compute the average error between the two results, and try to explain the difference\n",
    "* measure and compare the run time of both\n",
    "* transform cosine similarities to cosine distances for further use"
   ]
  },
  {
   "cell_type": "code",
   "execution_count": 43,
   "metadata": {},
   "outputs": [],
   "source": [
    "from sklearn.metrics import pairwise_distances\n",
    "from scipy.spatial.distance import cosine\n"
   ]
  },
  {
   "cell_type": "code",
   "execution_count": 44,
   "metadata": {},
   "outputs": [
    {
     "name": "stdout",
     "output_type": "stream",
     "text": [
      "This took 3.714s.\n"
     ]
    }
   ],
   "source": [
    "t0 = time()\n",
    "dist_cos = pairwise_distances(X=tfidf,Y=tfidf, metric=\"cosine\")\n",
    "print(\"This took %0.3fs.\" % (time() - t0))"
   ]
  },
  {
   "cell_type": "markdown",
   "metadata": {},
   "source": [
    "As we checked earlier on, the vectors are already normalized to size 1. Therefore, we do not need to calculate the sum in de denominator but just the dot product."
   ]
  },
  {
   "cell_type": "code",
   "execution_count": 45,
   "metadata": {},
   "outputs": [
    {
     "name": "stdout",
     "output_type": "stream",
     "text": [
      "This took 1.954s.\n"
     ]
    }
   ],
   "source": [
    "import scipy.sparse as sparse\n",
    "tf_idf = sparse.csr_matrix(tfidf)\n",
    "\n",
    "t1 = time()\n",
    "cos_sim = np.dot(tf_idf,tf_idf.T)\n",
    "print(\"This took %0.3fs.\" % (time() - t1))"
   ]
  },
  {
   "cell_type": "markdown",
   "metadata": {},
   "source": [
    "The self-scripted version is actually faster, because calculating the sum in the denominator, which is quite costly, is omitted."
   ]
  },
  {
   "cell_type": "code",
   "execution_count": 46,
   "metadata": {},
   "outputs": [
    {
     "name": "stdout",
     "output_type": "stream",
     "text": [
      "However, converting the sparse matrix to a dense takes another 1.754s.\n"
     ]
    }
   ],
   "source": [
    "t1 = time()\n",
    "dist_own = 1- cos_sim.todense()\n",
    "print(\"However, converting the sparse matrix to a dense takes another %0.3fs.\" % (time() - t1))"
   ]
  },
  {
   "cell_type": "code",
   "execution_count": 47,
   "metadata": {},
   "outputs": [
    {
     "name": "stdout",
     "output_type": "stream",
     "text": [
      "1.323587627440893e-18\n"
     ]
    }
   ],
   "source": [
    "mean_diff = np.mean((dist_own - dist_cos))\n",
    "print(mean_diff)"
   ]
  },
  {
   "cell_type": "markdown",
   "metadata": {},
   "source": [
    "The mean difference between the two distance matrices is as little as it gets. This is only due to the fact that sklean still does the normalization in the denominator, which was not always precisely 1 as we saw earlier."
   ]
  },
  {
   "cell_type": "markdown",
   "metadata": {},
   "source": [
    "## 3-2 Hierarchical Clustering\n",
    "* Perform hierarchical clustering using the precomputed *distance* matrix.\n",
    "* Use the scipy, *not* the sklearn version of hierarchical clustering. sklearn lacks functionality required for this assignment. You will need to read the documentation of several methods.\n",
    "* Experiment at least with Ward linkage and average linkage\n",
    "* Pay extra attention to the input data format and parameters - it is easy to get a result that looks okay, but that is wrong. What data transformation do you need to do for Ward linkage? Is this necessary for average linkage? Does it affect the result?\n",
    "* Measure the run time of the algorithm\n",
    "* Extract clusters for n=2..50 at least"
   ]
  },
  {
   "cell_type": "markdown",
   "metadata": {},
   "source": [
    "Ward linkage requires euclidean distance.\n",
    "However, this can be easily done because of the relationsship between (normalized) Cosine Distance and Euclidean Distance."
   ]
  },
  {
   "cell_type": "markdown",
   "metadata": {},
   "source": [
    "if $ \\lVert u \\rVert =\\lVert v \\rVert = 1  $"
   ]
  },
  {
   "cell_type": "markdown",
   "metadata": {},
   "source": [
    "$ dist_{cosine} = 1 -(u^T v) $ "
   ]
  },
  {
   "cell_type": "markdown",
   "metadata": {},
   "source": [
    "$ dist_{euclidean} = (u-v)^T (u-v) = u^Tu - 2u^Tv + v^Tv  $"
   ]
  },
  {
   "cell_type": "markdown",
   "metadata": {},
   "source": [
    "Since $ u^Tu = v^Tv = 1$"
   ]
  },
  {
   "cell_type": "markdown",
   "metadata": {},
   "source": [
    "$ dist_{euclidean} = 1 - 2 u^Tv + 1 = 2(1- u^Tv)= 2(dist_{cosine}) $"
   ]
  },
  {
   "cell_type": "code",
   "execution_count": 48,
   "metadata": {},
   "outputs": [],
   "source": [
    "# let's use this insight to calculate the euclidean distance matrix with little compution effort\n",
    "dist_eucl = 2 * dist_cos"
   ]
  },
  {
   "cell_type": "markdown",
   "metadata": {},
   "source": [
    "However, this should not result in a different clustering, since obviously both distance metrics are proportional to one another."
   ]
  },
  {
   "cell_type": "code",
   "execution_count": 50,
   "metadata": {},
   "outputs": [],
   "source": [
    "from scipy.cluster.hierarchy import dendrogram, linkage\n",
    "from matplotlib import pyplot as plt"
   ]
  },
  {
   "cell_type": "code",
   "execution_count": 51,
   "metadata": {},
   "outputs": [],
   "source": [
    "import scipy.spatial.distance as ssd\n",
    "# scipy also requires the distance metric to be condensed to 1D\n",
    "dist_eucl_arr = ssd.squareform(dist_eucl)"
   ]
  },
  {
   "cell_type": "code",
   "execution_count": 52,
   "metadata": {},
   "outputs": [
    {
     "name": "stdout",
     "output_type": "stream",
     "text": [
      "This took 13.331s.\n"
     ]
    },
    {
     "data": {
      "image/png": "[encoded data removed]",
      "text/plain": [
       "<Figure size 3600x1440 with 1 Axes>"
      ]
     },
     "metadata": {
      "needs_background": "light"
     },
     "output_type": "display_data"
    }
   ],
   "source": [
    "t0 = time()\n",
    "L_ward = linkage(y=dist_eucl_arr,method='ward')\n",
    "fig = plt.figure(figsize=(50,20))\n",
    "dn=dendrogram(L_ward)\n",
    "print(\"This took %0.3fs.\" % (time() - t0))"
   ]
  },
  {
   "cell_type": "code",
   "execution_count": 56,
   "metadata": {},
   "outputs": [
    {
     "name": "stdout",
     "output_type": "stream",
     "text": [
      "True\n"
     ]
    }
   ],
   "source": [
    "from scipy.cluster.hierarchy import is_valid_linkage\n",
    "print(is_valid_linkage(L_ward))"
   ]
  },
  {
   "cell_type": "code",
   "execution_count": 53,
   "metadata": {},
   "outputs": [],
   "source": [
    "cos_dist_arr = ssd.squareform(dist_cos)"
   ]
  },
  {
   "cell_type": "code",
   "execution_count": 54,
   "metadata": {},
   "outputs": [
    {
     "name": "stdout",
     "output_type": "stream",
     "text": [
      "This took 5.762s.\n"
     ]
    }
   ],
   "source": [
    "t0= time() \n",
    "L_avg=linkage(cos_dist_arr,method='average')\n",
    "print(\"This took %0.3fs.\" % (time() - t0))"
   ]
  },
  {
   "cell_type": "markdown",
   "metadata": {},
   "source": [
    "Alot faster when we leave out the dendogram."
   ]
  },
  {
   "cell_type": "code",
   "execution_count": 57,
   "metadata": {},
   "outputs": [],
   "source": [
    "from scipy.cluster.hierarchy import cut_tree\n",
    "\n",
    "clust_assign_ward = []\n",
    "clust_assign_avg =[]\n",
    "\n",
    "#extract clusterings of sizes 2 to 50\n",
    "for n in range(50):\n",
    "    clust_assign_ward.append( (cut_tree(L_ward,n+1)).flatten() )\n",
    "    clust_assign_avg.append( (cut_tree(L_avg,n+1)).flatten() )"
   ]
  },
  {
   "cell_type": "markdown",
   "metadata": {},
   "source": [
    "## 3-3 Cluster Evaluation\n",
    "* Use the 'c' attribute from the original data as ground truth\n",
    "* Use internal measures such as ARI *and* NMI for evaluation (from sklearn, not in scipy...)\n",
    "* Plot a curve showing the result quality for at least ARI and NMI\n",
    "* Discuss these findings. What do you observe?\n",
    "* What are the best parameters found using the labels?\n",
    "* Print the number of elements in each cluster of the best clustering\n",
    "* Compute the Silhouette coefficient of the best result (hint: use the distance matrix again). Measure the run time.\n",
    "* Is the Silhouette score good?"
   ]
  },
  {
   "cell_type": "code",
   "execution_count": 58,
   "metadata": {},
   "outputs": [
    {
     "data": {
      "text/plain": [
       "{'Characters', 'Episodes', 'Gags', 'Locations', 'Objects', 'Songs', 'Trivia'}"
      ]
     },
     "execution_count": 58,
     "metadata": {},
     "output_type": "execute_result"
    }
   ],
   "source": [
    "ground_truth = []\n",
    "\n",
    "#extract the 'c' variable from our raw text corpus as a ground truth\n",
    "for i in range(len(raw)):\n",
    "    ground_truth.append(raw[i]['c'])\n",
    "\n",
    "set(ground_truth)"
   ]
  },
  {
   "cell_type": "code",
   "execution_count": 59,
   "metadata": {},
   "outputs": [],
   "source": [
    "from sklearn.metrics import adjusted_rand_score as ARI\n",
    "from sklearn.metrics import normalized_mutual_info_score as NMI\n",
    "\n",
    "rand_ind_ward = []\n",
    "rand_ind_avg = []\n",
    "\n",
    "#calculate adjusted Rand Index for each extracted clustering\n",
    "for i in range(50): \n",
    "    rand_ind_ward.append( ARI(clust_assign_ward[i],ground_truth) )\n",
    "    rand_ind_avg.append( ARI(clust_assign_avg[i],ground_truth) )\n"
   ]
  },
  {
   "cell_type": "code",
   "execution_count": 298,
   "metadata": {},
   "outputs": [
    {
     "data": {
      "text/plain": [
       "0.09557600638385055"
      ]
     },
     "execution_count": 298,
     "metadata": {},
     "output_type": "execute_result"
    }
   ],
   "source": [
    "rand_ind_ward[11]"
   ]
  },
  {
   "cell_type": "code",
   "execution_count": 98,
   "metadata": {},
   "outputs": [
    {
     "data": {
      "image/png": "[encoded data removed]",
      "text/plain": [
       "<Figure size 432x288 with 1 Axes>"
      ]
     },
     "metadata": {
      "needs_background": "light"
     },
     "output_type": "display_data"
    }
   ],
   "source": [
    "import matplotlib.pyplot as plt\n",
    "xint= range(0,50)\n",
    "plt.plot(xint, rand_ind_ward, 'bx-') \n",
    "plt.xlabel('Number of Clusters extracted')\n",
    "plt.xticks()\n",
    "plt.ylabel('ARI') \n",
    "plt.title('Adjusted Rand Index of Hierarchical Cluster with Ward Linkage') \n",
    "plt.show() \n"
   ]
  },
  {
   "cell_type": "code",
   "execution_count": 99,
   "metadata": {},
   "outputs": [
    {
     "data": {
      "image/png": "[encoded data removed]",
      "text/plain": [
       "<Figure size 432x288 with 1 Axes>"
      ]
     },
     "metadata": {
      "needs_background": "light"
     },
     "output_type": "display_data"
    }
   ],
   "source": [
    "import matplotlib.pyplot as plt\n",
    "xint= range(0,50)\n",
    "plt.plot(xint, rand_ind_avg, 'bx-') \n",
    "plt.xlabel('Number of Clusters extracted')\n",
    "plt.xticks()\n",
    "plt.ylabel('ARI') \n",
    "plt.title('Adjusted Rand Index of Hierarchical Cluster with Average Linkage') \n",
    "plt.show() "
   ]
  },
  {
   "cell_type": "markdown",
   "metadata": {},
   "source": [
    "The ARI values are unaccaptably low, in the case of Average-Linkage even below zero, which means we have a below-random performance.\n",
    "However, I have the impression, that very high scores on this dataset with this ground truth are not possible, since teh ground truth.. well is not the ground truth. Documents labeled with 'Character' do not differ greatly in the words occuring from those labeled 'Episodes'. This means they do not actually differ in the tf-idf space, in which we are clustering. If we actually wanted to find differences between them, we would have to do a completely different preprocessing to span a different space. Alternatively, we could use algorithms for classification, since we have these labels."
   ]
  },
  {
   "cell_type": "code",
   "execution_count": 62,
   "metadata": {},
   "outputs": [],
   "source": [
    "from sklearn.metrics import silhouette_score as silhouette"
   ]
  },
  {
   "cell_type": "code",
   "execution_count": 64,
   "metadata": {},
   "outputs": [
    {
     "name": "stdout",
     "output_type": "stream",
     "text": [
      "done in 0.893s.\n"
     ]
    }
   ],
   "source": [
    "pred_labels = clust_assign_ward[4]\n",
    "\n",
    "t1 = time()\n",
    "sh = silhouette(X=dist_cos, metric= 'precomputed', labels=pred_labels, random_state=42 )\n",
    "print(\"done in %0.3fs.\" % (time() - t1))"
   ]
  },
  {
   "cell_type": "code",
   "execution_count": 65,
   "metadata": {},
   "outputs": [
    {
     "name": "stdout",
     "output_type": "stream",
     "text": [
      "Silhouette of 11 Clusters with Ward Linkage 0.002141208480971077\n"
     ]
    }
   ],
   "source": [
    "print(\"Silhouette of 11 Clusters with Ward Linkage\", sh)"
   ]
  },
  {
   "cell_type": "markdown",
   "metadata": {},
   "source": [
    "The silhouette score virtually equals zero, which is unacceptably low.\n",
    "I have tried to get better results, but with the huge runtime of the hierarchical clustering, it is hard to experiment whith it."
   ]
  },
  {
   "cell_type": "code",
   "execution_count": 69,
   "metadata": {},
   "outputs": [
    {
     "data": {
      "text/plain": [
       "Counter({0: 7995,\n",
       "         1: 249,\n",
       "         2: 201,\n",
       "         3: 204,\n",
       "         4: 306,\n",
       "         5: 60,\n",
       "         6: 200,\n",
       "         7: 57,\n",
       "         8: 88,\n",
       "         9: 427,\n",
       "         10: 311,\n",
       "         11: 28})"
      ]
     },
     "execution_count": 69,
     "metadata": {},
     "output_type": "execute_result"
    }
   ],
   "source": [
    "import collections\n",
    "collections.Counter(clust_assign_ward[11])"
   ]
  },
  {
   "cell_type": "code",
   "execution_count": 72,
   "metadata": {},
   "outputs": [
    {
     "data": {
      "text/plain": [
       "0.7895516492198301"
      ]
     },
     "execution_count": 72,
     "metadata": {},
     "output_type": "execute_result"
    }
   ],
   "source": [
    "7995 / len(clust_assign_ward[11])"
   ]
  },
  {
   "cell_type": "markdown",
   "metadata": {},
   "source": [
    "The Clusters are of very different sizes with one containing over 3/4 of the instances."
   ]
  },
  {
   "cell_type": "markdown",
   "metadata": {},
   "source": [
    "## 3-4 k-Means clustering\n",
    "* Run k-means clustering on the TF-IDF vectors (*not* on the distance matrix)\n",
    "* The newest sklearn is supposedly much faster (and has some bugs fixed)\n",
    "* Try at least k=2..20.\n",
    "* It is okay to reduce n_init and max_iter to reduce the run time to <1 hour total (!)\n",
    "* For repeatability, use a fixed random seed.\n",
    "* Make an Elbow plot. Discuss it.\n",
    "* Plot a curve showing the result quality for ARI. Print the best ARI.\n",
    "* Optional: implement *spherical* k-means yourself (my spherical k-means is several times faster than sklearns!)"
   ]
  },
  {
   "cell_type": "markdown",
   "metadata": {},
   "source": [
    "class sklearn.cluster.KMeans(n_clusters=8, *, init='k-means++', n_init=10, max_iter=300, tol=0.0001, precompute_distances='deprecated', verbose=0, random_state=None, copy_x=True, n_jobs='deprecated', algorithm='auto')"
   ]
  },
  {
   "cell_type": "code",
   "execution_count": 73,
   "metadata": {},
   "outputs": [],
   "source": [
    "from sklearn.cluster import KMeans"
   ]
  },
  {
   "cell_type": "code",
   "execution_count": 318,
   "metadata": {},
   "outputs": [],
   "source": [
    "K = range(1,20) \n",
    "\n",
    "inertias = []\n",
    "pred_labels = {}\n",
    "\n",
    "#train the model depending in k and save inertias, mapping, and predicted labels\n",
    "for k in K: \n",
    "    kmeanModel = KMeans(n_clusters=k,n_init=6, max_iter=250,tol=0.001, random_state=2006).fit(tfidf)   \n",
    "      \n",
    "    inertias.append(kmeanModel.inertia_)\n",
    "    pred_labels[k] = kmeanModel.labels_"
   ]
  },
  {
   "cell_type": "code",
   "execution_count": 319,
   "metadata": {},
   "outputs": [
    {
     "data": {
      "image/png": "[encoded data removed]",
      "text/plain": [
       "<Figure size 432x288 with 1 Axes>"
      ]
     },
     "metadata": {
      "needs_background": "light"
     },
     "output_type": "display_data"
    }
   ],
   "source": [
    "import matplotlib.pyplot as plt\n",
    "xint= range(0,20)\n",
    "plt.plot(K, inertias, 'bx-') \n",
    "plt.xlabel('Values of K')\n",
    "plt.xticks(xint)\n",
    "plt.ylabel('Inertia') \n",
    "plt.title('The Elbow Plot using Inertia') \n",
    "plt.show() \n"
   ]
  },
  {
   "cell_type": "markdown",
   "metadata": {},
   "source": [
    "Obviously, the SSE to the closest cluster center is stricly decreasing.\n",
    "Looking for an 'elbow', we find 4, 8 and 14 as potentially good choices for K.\n",
    "The latter are very plausible, since 7 is the true number of clusters in our data according to the ground truth."
   ]
  },
  {
   "cell_type": "code",
   "execution_count": 181,
   "metadata": {},
   "outputs": [],
   "source": [
    "ground_truth = []\n",
    "\n",
    "for i in range(len(raw)):\n",
    "    ground_truth.append(raw[i]['c'])"
   ]
  },
  {
   "cell_type": "code",
   "execution_count": 182,
   "metadata": {},
   "outputs": [
    {
     "data": {
      "text/plain": [
       "{'Characters', 'Episodes', 'Gags', 'Locations', 'Objects', 'Songs', 'Trivia'}"
      ]
     },
     "execution_count": 182,
     "metadata": {},
     "output_type": "execute_result"
    }
   ],
   "source": [
    "set(ground_truth)"
   ]
  },
  {
   "cell_type": "code",
   "execution_count": 356,
   "metadata": {},
   "outputs": [],
   "source": [
    "from sklearn.metrics import adjusted_rand_score as ARI\n"
   ]
  },
  {
   "cell_type": "code",
   "execution_count": 321,
   "metadata": {},
   "outputs": [],
   "source": [
    "ARIs = []\n",
    "\n",
    "for i in range(1,20):\n",
    "    ari = ARI(pred_labels[i],ground_truth)\n",
    "    ARIs.append(ari)"
   ]
  },
  {
   "cell_type": "code",
   "execution_count": 322,
   "metadata": {},
   "outputs": [
    {
     "data": {
      "image/png": "[encoded data removed]",
      "text/plain": [
       "<Figure size 432x288 with 1 Axes>"
      ]
     },
     "metadata": {
      "needs_background": "light"
     },
     "output_type": "display_data"
    }
   ],
   "source": [
    "\n",
    "xint= range(1,20)\n",
    "plt.plot(K, ARIs, 'bx-') \n",
    "plt.xlabel('Values of K')\n",
    "plt.xticks(xint)\n",
    "plt.ylabel('Inertia') \n",
    "plt.title('Adjusted Rand Index') \n",
    "plt.show() "
   ]
  },
  {
   "cell_type": "code",
   "execution_count": 323,
   "metadata": {},
   "outputs": [
    {
     "name": "stdout",
     "output_type": "stream",
     "text": [
      "Best ARI: 0.295\n"
     ]
    }
   ],
   "source": [
    "print(\"Best ARI:\", round(ARIs[3],3))"
   ]
  },
  {
   "cell_type": "markdown",
   "metadata": {},
   "source": [
    "This is okay but not very good."
   ]
  },
  {
   "cell_type": "markdown",
   "metadata": {},
   "source": [
    "## 3-5 Clusters as topics\n",
    "For the best k-means clustering found above:\n",
    "\n",
    "* Print the number of elements in each cluster\n",
    "* Identify the most important words for each cluster centroid as a \"cluster topic\".\n",
    "* Identify the document closest to the cluster center\n",
    "* Discuss the clustering result"
   ]
  },
  {
   "cell_type": "markdown",
   "metadata": {},
   "source": [
    "With the best ARI Score at 4 and the first elbow we identified, let's consider the Four-Means Model as out best in order to inspect it more closely in the following."
   ]
  },
  {
   "cell_type": "code",
   "execution_count": 75,
   "metadata": {},
   "outputs": [
    {
     "name": "stdout",
     "output_type": "stream",
     "text": [
      "This took 96.55360198020935 seconds\n"
     ]
    }
   ],
   "source": [
    "# retrain the best kMeans Model:\n",
    "from time import time\n",
    "t0 = time()\n",
    "fourMeans = KMeans(n_clusters=4,n_init=6, max_iter=250,tol=0.001, random_state=2006).fit(tfidf) \n",
    "print(\"This took\", time() - t0, \"seconds\")"
   ]
  },
  {
   "cell_type": "code",
   "execution_count": 278,
   "metadata": {},
   "outputs": [],
   "source": [
    "centroids = fourMeans.cluster_centers_\n"
   ]
  },
  {
   "cell_type": "code",
   "execution_count": 87,
   "metadata": {},
   "outputs": [
    {
     "data": {
      "text/plain": [
       "Counter({3: 1167, 2: 7745, 0: 845, 1: 369})"
      ]
     },
     "execution_count": 87,
     "metadata": {},
     "output_type": "execute_result"
    }
   ],
   "source": [
    "import collections\n",
    "collections.Counter(fourMeans.labels_)"
   ]
  },
  {
   "cell_type": "code",
   "execution_count": 88,
   "metadata": {},
   "outputs": [
    {
     "data": {
      "text/plain": [
       "0.8801106063598657"
      ]
     },
     "execution_count": 88,
     "metadata": {},
     "output_type": "execute_result"
    }
   ],
   "source": [
    "all = 1167 + 7745 + 845 + 369\n",
    "(1167+7745)/all"
   ]
  },
  {
   "cell_type": "markdown",
   "metadata": {},
   "source": [
    "The clusters are of very different sizes, which makes it rather hard to interpret them nicely."
   ]
  },
  {
   "cell_type": "markdown",
   "metadata": {},
   "source": [
    "Calculate Cosine Similiarity between Centroids and all words."
   ]
  },
  {
   "cell_type": "code",
   "execution_count": 288,
   "metadata": {},
   "outputs": [
    {
     "name": "stdout",
     "output_type": "stream",
     "text": [
      "Top terms per cluster:\n",
      "\n",
      "Cluster 0:\n",
      " song sung played homer lyrics lisa performed bart love marge treehouse horror episode parody theme\n",
      "Cluster 1:\n",
      " couch simpson maggie plot appearances homer family marge season character lisa bart room simpsons sits\n",
      "Cluster 2:\n",
      " springfield homer history bart simpson lisa simpsons burns also marge family seen krusty episode school\n",
      "Cluster 3:\n",
      " homer bart marge lisa episode burns family springfield back however simpsons tells gets home school"
     ]
    }
   ],
   "source": [
    "print(\"Top terms per cluster:\")\n",
    "order_centroids = fourMeans.cluster_centers_.argsort()[:, ::-1]\n",
    "terms = vectorizer.get_feature_names()\n",
    "for k in range(4):\n",
    "    print(end='\\n')\n",
    "    print(\"Cluster %d:\" % k),\n",
    "    for ind in order_centroids[k, :15]:\n",
    "        print(' %s' % terms[ind], end='')\n",
    "        \n",
    "    print"
   ]
  },
  {
   "cell_type": "code",
   "execution_count": 284,
   "metadata": {},
   "outputs": [],
   "source": [
    "from sklearn.metrics import pairwise_distances \n",
    "                                   \n",
    "centroid_doc_dists = pairwise_distances(X=tfidf, Y=centroids, metric='cosine')\n",
    "#centroid_doc_dists.shape\n",
    "#type(centroid_doc_dists)"
   ]
  },
  {
   "cell_type": "code",
   "execution_count": 327,
   "metadata": {},
   "outputs": [
    {
     "name": "stdout",
     "output_type": "stream",
     "text": [
      "Most similar documents to cluster centroids\n",
      "___________________\n",
      "Cluster 0\n",
      "8855 Ragtag Bunch of Mistfits\n",
      "8854 G.I. Jane Musical\n",
      "8853 Paul Blart Musical\n",
      "8856 Corey Leak\n",
      "8810 Skinner is a Nut\n",
      "8102 The Odd Couple Theme Song\n",
      "6922 Homer (song)\n",
      "___________________\n",
      "Cluster 1\n",
      "4090 Homer's Couch couch gag\n",
      "4282 Family Couch couch gag\n",
      "5625 Couch Falling from the Sky and Crushing the Family couch gag\n",
      "4244 Lying Down Bart couch gag\n",
      "4272 Fat Man couch gag\n",
      "6522 Modern Couch Gag couch gag\n",
      "4286 Trampoline Couch couch gag\n",
      "___________________\n",
      "Cluster 2\n",
      "3614 Homer Simpson\n",
      "3615 Bart Simpson\n",
      "3616 Marge Simpson\n",
      "14 Abraham Simpson II\n",
      "2012 Robert Terwilliger\n",
      "3617 Lisa Simpson\n",
      "969 References in other media\n",
      "___________________\n",
      "Cluster 3\n",
      "3614 Homer Simpson\n",
      "3615 Bart Simpson\n",
      "3616 Marge Simpson\n",
      "802 Barting Over\n",
      "141 Moaning Lisa\n",
      "3647 Holidays of Future Passed\n",
      "4185 Treehouse of Horror XXIII\n"
     ]
    }
   ],
   "source": [
    "\n",
    "print(\"Most similar documents to cluster centroids\")\n",
    "for j in range(4):\n",
    "    doc_inds = centroid_doc_dists[:,j].argsort()\n",
    "    print(\"___________________\")\n",
    "    print(\"Cluster\", j)\n",
    "    \n",
    "    for i in range(7):\n",
    "        index=doc_inds[i]\n",
    "        title = raw[index]['title']\n",
    "        print(index,title)"
   ]
  },
  {
   "cell_type": "markdown",
   "metadata": {},
   "source": [
    "#### Interpretation of Clusters\n",
    "\n",
    "The first two Clusters, which contain far less documents than the other two, can be interpreted more clearly because they are more distinct.\n",
    "- The first is clearly characterized through music. Mostly containing documents describing certain songs or musical-like episodes and words like \"song, sung, lyrics, performed\"\n",
    "- In the second cluster couch gags were gathered.\n",
    "- The third cluster alone contains over 3/4 of all documents! It can probably be best described as \"ordinary document\". Coomon words are the character names and frequently visited places.\n",
    "- How the fourth cluster differentiates from the former is not entirely clear to me. It seems to be more focused on the kids, Lisa and Bart, and their related words like school etc.\n"
   ]
  },
  {
   "cell_type": "markdown",
   "metadata": {},
   "source": [
    "In this case, it would make alot of sense to safe the two clusters we can nicely interpret and rerun kMeans on the other observation to find some more interpretable differences, which we will do later."
   ]
  },
  {
   "cell_type": "markdown",
   "metadata": {},
   "source": [
    "## 4-1 Topic Modeling with LSI\n",
    "\n",
    "Perform Latent Semantic Indexing by performing a truncated SVD of the tfidf or tf matrix.\n",
    "\n"
   ]
  },
  {
   "cell_type": "code",
   "execution_count": 211,
   "metadata": {},
   "outputs": [
    {
     "data": {
      "text/plain": [
       "(10126, 44823)"
      ]
     },
     "execution_count": 211,
     "metadata": {},
     "output_type": "execute_result"
    }
   ],
   "source": [
    "tfidf.shape"
   ]
  },
  {
   "cell_type": "code",
   "execution_count": 212,
   "metadata": {},
   "outputs": [
    {
     "data": {
      "text/plain": [
       "TruncatedSVD(algorithm='randomized', n_components=1000, n_iter=7,\n",
       "             random_state=42, tol=0.0)"
      ]
     },
     "execution_count": 212,
     "metadata": {},
     "output_type": "execute_result"
    }
   ],
   "source": [
    "from sklearn.decomposition import TruncatedSVD\n",
    "\n",
    "svd = TruncatedSVD(n_components=1000, n_iter=7, random_state=42)\n",
    "\n",
    "svd.fit(tfidf)\n"
   ]
  },
  {
   "cell_type": "code",
   "execution_count": 213,
   "metadata": {
    "scrolled": true
   },
   "outputs": [
    {
     "name": "stdout",
     "output_type": "stream",
     "text": [
      "0.4946771461921531\n"
     ]
    }
   ],
   "source": [
    "print(svd.explained_variance_ratio_.sum())"
   ]
  },
  {
   "cell_type": "markdown",
   "metadata": {},
   "source": [
    "Around 50% of the obsorved Variance can be explained through the truncated SVD, which seems decent to me with only 1000 components."
   ]
  },
  {
   "cell_type": "code",
   "execution_count": 215,
   "metadata": {},
   "outputs": [
    {
     "name": "stdout",
     "output_type": "stream",
     "text": [
      "0.6677391847918852\n"
     ]
    }
   ],
   "source": [
    "svd2 = TruncatedSVD(n_components=2000, n_iter=7, random_state=42)\n",
    "\n",
    "svd2.fit(tfidf)\n",
    "\n",
    "print(svd2.explained_variance_ratio_.sum())\n"
   ]
  },
  {
   "cell_type": "markdown",
   "metadata": {},
   "source": [
    "We can get better results with a significantly bigger runtime."
   ]
  },
  {
   "cell_type": "markdown",
   "metadata": {},
   "source": [
    "## 4-2 Topic Modeling with pLSI and NMF\n",
    "\n",
    "Perform topic modeling with pLSI by the means of NMF. Experiment with different losses - Kullback-Leibler as in pLSI, but also Frobenius loss.\n",
    "\n"
   ]
  },
  {
   "cell_type": "code",
   "execution_count": 91,
   "metadata": {},
   "outputs": [],
   "source": [
    "n_samples = 2000\n",
    "n_features = 1000\n",
    "n_components = 10\n",
    "n_top_words = 20"
   ]
  },
  {
   "cell_type": "code",
   "execution_count": 82,
   "metadata": {},
   "outputs": [],
   "source": [
    "def top_words(model, features, n_words):\n",
    "    for topic_idx, topic in enumerate(model.components_):\n",
    "        message = \"Topic #%d: \" % topic_idx\n",
    "        message += \" \".join([features[i]\n",
    "                             for i in topic.argsort()[:-n_words - 1:-1]])\n",
    "        print(message)\n",
    "    print()\n"
   ]
  },
  {
   "cell_type": "code",
   "execution_count": null,
   "metadata": {},
   "outputs": [],
   "source": []
  },
  {
   "cell_type": "markdown",
   "metadata": {},
   "source": [
    "### NMF with Frobenius Norm"
   ]
  },
  {
   "cell_type": "code",
   "execution_count": 92,
   "metadata": {},
   "outputs": [
    {
     "name": "stdout",
     "output_type": "stream",
     "text": [
      "done in 3.499s.\n"
     ]
    }
   ],
   "source": [
    "t0=time()\n",
    "nmf = NMF(n_components=n_components, random_state=1,\n",
    "          alpha=.1, l1_ratio=.5).fit(tfidf)\n",
    "print(\"done in %0.3fs.\" % (time() - t0))"
   ]
  },
  {
   "cell_type": "code",
   "execution_count": 93,
   "metadata": {},
   "outputs": [
    {
     "name": "stdout",
     "output_type": "stream",
     "text": [
      "NMF Model with Frobenius Norm:\n",
      "Topic #0: springfield school elementary history store shop seen skinner student located mall town teacher students shelbyville principal class name also grade\n",
      "Topic #1: couch simpson maggie plot appearances family season character marge lisa homer bart room sits living simpsons usual runs second first\n",
      "Topic #2: song sung played lyrics performed lisa love homer treehouse horror theme parody music written flanders little clausen chorus band happy\n",
      "Topic #3: homer marge family house flanders back home simpson episode tells however lenny says time springfield gets plant goes later carl\n",
      "Topic #4: burns charles montgomery smithers plant nuclear power waylon great employee daphne larry mansion monty family heir workers clifford robot robots\n",
      "Topic #5: simpsons episode american actor show also guest character born appeared season itchy scratchy known voice film series voiced starred writer\n",
      "Topic #6: spuckler cletus brandine children mary many incest wheel baby race siblings whitney barrow heather fontanelle harvester dubya appears oxycontin dara\n",
      "Topic #7: bart lisa milhouse marge nelson book skinner school back gets episode tells however maggie like first history kids says home\n",
      "Topic #8: krusty clown show burger sideshow kamp brand rabbi krustofsky jewish clowns penelope gabbo audience gets court kent merchandise kancelled lyrics\n",
      "Topic #9: bouvier great simpson selma gurney patty marcel grandfather grandmother siblings maternal daughter uncle marceau jacqueline angelique rené victor children yves\n",
      "\n"
     ]
    }
   ],
   "source": [
    "tfidf_feature_names = vectorizer.get_feature_names()\n",
    "\n",
    "print(\"NMF Model with Frobenius Norm:\")\n",
    "top_words(nmf, tfidf_feature_names, n_top_words)"
   ]
  },
  {
   "cell_type": "markdown",
   "metadata": {},
   "source": [
    "My Interpretation\n",
    "- Topic #0: School\n",
    "- Topic #1: Couch Gags\n",
    "- Topic #2: Songs & Music\n",
    "- Topic #3: Characters\n",
    "- Topic #4: Smithers & Nuclear Plant \n",
    "- Topic #5: Guest Stars\n",
    "- Topic #6: Political (?)\n",
    "- Topic #7: Stories sorrounding Lisa\n",
    "- Topic #8: Krusty Clown\n",
    "- Topic #9: Simpsons Family"
   ]
  },
  {
   "cell_type": "markdown",
   "metadata": {},
   "source": [
    "### NMF with Kulback Leibler Divergence"
   ]
  },
  {
   "cell_type": "code",
   "execution_count": 94,
   "metadata": {},
   "outputs": [],
   "source": [
    "nmf_kl = NMF(n_components=n_components, random_state=1,\n",
    "          beta_loss='kullback-leibler', solver='mu', max_iter=1000, alpha=.1,\n",
    "          l1_ratio=.5).fit(tfidf)\n"
   ]
  },
  {
   "cell_type": "code",
   "execution_count": 95,
   "metadata": {},
   "outputs": [
    {
     "name": "stdout",
     "output_type": "stream",
     "text": [
      "\n",
      "Topics in NMF model (generalized Kullback-Leibler divergence):\n",
      "Topic #0: bart history lisa homer marge springfield like later also first seen school simpsons however time simpson episode told said behind\n",
      "Topic #1: simpson couch character maggie family appearances plot season room sits living runs usual sitting second sixth dressed except onto ninth\n",
      "Topic #2: song sung homer lyrics played lisa performed music love treehouse written horror parody album clausen track theme sing little flanders\n",
      "Topic #3: homer marge power plant nuclear home tells asks carl lenny works employee takes work tries back night gets however says\n",
      "Topic #4: history burns behind laughter springfield seen montgomery also name parody charles simpson simpsons appearance country nuclear along many united member\n",
      "Topic #5: simpsons episode american show actor also appeared born known character guest series voiced season movie film television voice best starred\n",
      "Topic #6: children family brandine many cletus spuckler house baby homer father bart three child parents mother mary home appears kids something\n",
      "Topic #7: bart krusty gets episode show clown story season synopsis lisa tells full tries itchy makes scratchy milhouse says back take\n",
      "Topic #8: springfield history simpson store homer shop located krusty sells school went mall town city parody food elementary police restaurant clown\n",
      "Topic #9: simpson marge lisa great mother wife selma history daughter trivia bouvier book father family married named brother abraham husband patty\n",
      "\n"
     ]
    }
   ],
   "source": [
    "print(\"\\nTopics in NMF model (generalized Kullback-Leibler divergence):\")\n",
    "\n",
    "top_words(nmf_kl, tfidf_feature_names, n_top_words)"
   ]
  },
  {
   "cell_type": "markdown",
   "metadata": {},
   "source": [
    "## 4-3 Topic Modeling with LDA\n",
    "\n",
    "Perform topic modeling with LDA. Consider trying different implementations (e.g., sklearn, gensim).\n",
    "\n"
   ]
  },
  {
   "cell_type": "code",
   "execution_count": 79,
   "metadata": {},
   "outputs": [],
   "source": [
    "from sklearn.decomposition import LatentDirichletAllocation\n",
    "from sklearn.feature_extraction.text import CountVectorizer\n",
    "\n",
    "# NMF need a tf, which we will build now\n",
    "tf_vectorizer = CountVectorizer(max_df=0.95, min_df=3,\n",
    "                                max_features=n_features,\n",
    "                                stop_words='english')\n",
    "\n",
    "tf = tf_vectorizer.fit_transform(all_text)\n",
    "\n"
   ]
  },
  {
   "cell_type": "code",
   "execution_count": 85,
   "metadata": {},
   "outputs": [
    {
     "data": {
      "text/plain": [
       "LatentDirichletAllocation(batch_size=128, doc_topic_prior=None,\n",
       "                          evaluate_every=-1, learning_decay=0.7,\n",
       "                          learning_method='batch', learning_offset=50.0,\n",
       "                          max_doc_update_iter=100, max_iter=5,\n",
       "                          mean_change_tol=0.001, n_components=10, n_jobs=None,\n",
       "                          perp_tol=0.1, random_state=42, topic_word_prior=None,\n",
       "                          total_samples=1000000.0, verbose=0)"
      ]
     },
     "execution_count": 85,
     "metadata": {},
     "output_type": "execute_result"
    }
   ],
   "source": [
    "lda = LatentDirichletAllocation(n_components=10, max_iter=5,\n",
    "                                learning_offset=50.,\n",
    "                                random_state=42)\n",
    "t0 = time()\n",
    "lda.fit(tf)"
   ]
  },
  {
   "cell_type": "code",
   "execution_count": 86,
   "metadata": {},
   "outputs": [
    {
     "name": "stdout",
     "output_type": "stream",
     "text": [
      "\n",
      "Topics in LDA model:\n",
      "Topic #0: springfield ned homer flanders history lisa house selma marge simpson book patty bart ralph told wiggum man lovejoy simpsons children\n",
      "Topic #1: springfield simpsons american film scratchy itchy episode actor movie voice known born school character tony history series guest krusty city\n",
      "Topic #2: bart homer lisa school skinner milhouse nelson marge says springfield little episode principal like krusty martin willie gets tells time\n",
      "Topic #3: simpson couch gag family homer maggie bart marge lisa great season abe character bouvier plot appearances simpsons abraham room mona\n",
      "Topic #4: homer moe barney simpsons lenny marge car carl simpson springfield game beer family time later tavern maggie duff bar like\n",
      "Topic #5: burns mr springfield homer smithers plant apu nuclear power history mart store charles kwik montgomery shop simpson new bart country\n",
      "Topic #6: homer marge lisa bart episode family tells season home story house gets goes simpsons maggie new says springfield synopsis tries\n",
      "Topic #7: bob guy comic simpsons book sideshow bart episode homer family springfield man milhouse quimby series prison character mayor season van\n",
      "Topic #8: song krusty lyrics sung homer parody episode oh lisa music laughter played like love clown history band simpsons written don\n",
      "Topic #9: seen springfield span hair episode family blue color line wears red style brown bart white appearance 37 class history school\n",
      "\n"
     ]
    }
   ],
   "source": [
    "print(\"\\nTopics in LDA model:\")\n",
    "tf_feature_names = tf_vectorizer.get_feature_names()\n",
    "top_words(lda, tf_feature_names, n_top_words)"
   ]
  },
  {
   "cell_type": "markdown",
   "metadata": {},
   "source": [
    "## 4-4 Detailed Evaluation\n",
    "\n",
    "Study the results above. Also compare the results to spherical k-means before.\n",
    "\n",
    "Argue which method worked best and *why*. Since many methods will be sensitive to preprocessing and random initialization, re-run the \"best\" method with different parameters, and compare the results.\n",
    "\n",
    "Consider evaluation based on the existing labels. What are your findings.\n",
    "\n",
    "Document your results, the evaluation will be the key part of the Studienleistung: Assuming you had been assigned to perform topic modeling on this data set by your boss as part of your job, how would you present the results to your group (that does not know all these algorithms)? What methods would you recommend to purse further, what preprocessing, and *why*?"
   ]
  },
  {
   "cell_type": "markdown",
   "metadata": {},
   "source": [
    "What I subjectively find the easiest to interpret is the NMF Model. This is due to the fact, that it only infers additive relationships. \n",
    "I guess this approach would also be easier to explain to non-technical colleagues. Even if it's not actually true, eigenvalues and -vectors sound very abstract and confusing to alot of people.\n",
    "Nonnegative Matrix Factorization however, can be explained quite easily:\n",
    "We have our term frequencies saved in a nxm matrix M. We factorize it into two different matrices, W (nxr) and H (rxm), with no negative entries. r concerns the dimension of the inner product and thus the accuracy of approximation. \n",
    "How exactly this is done algoritithmically should not bother the client, but we can tell them that it is proven to converge to a local optimum.\n",
    "\n",
    "If the factorization is done, we can interpret these matrices nicely:\n",
    "* W contains our basis topics\n",
    "* H contains column-wise encodings, which create the observations in M through linear combinations of the basis topics.\n",
    "\n",
    "So each document is (modeled to be) created by adding up these topics.\n",
    "If we are interested ehich \"basic themes\" the writers of the Simpsons have utilized, we can find them this way."
   ]
  },
  {
   "cell_type": "markdown",
   "metadata": {},
   "source": [
    "Let's rerun the NMF with Frobenius Norm with less components and another seed."
   ]
  },
  {
   "cell_type": "code",
   "execution_count": 310,
   "metadata": {},
   "outputs": [
    {
     "name": "stdout",
     "output_type": "stream",
     "text": [
      "done in 2.481s.\n"
     ]
    }
   ],
   "source": [
    "n_components = 5\n",
    "\n",
    "\n",
    "t0=time()\n",
    "nmf2_frob = NMF(n_components=n_components, random_state=2020,\n",
    "          alpha=.1, l1_ratio=.5,\n",
    "          max_iter= 300, tol=0.00001).fit(tfidf)\n",
    "print(\"done in %0.3fs.\" % (time() - t0))"
   ]
  },
  {
   "cell_type": "code",
   "execution_count": 311,
   "metadata": {},
   "outputs": [
    {
     "name": "stdout",
     "output_type": "stream",
     "text": [
      "Second NMF Model with Frobenius Norm:\n",
      "Topic #0: bart lisa springfield school episode krusty simpsons also history milhouse book show\n",
      "Topic #1: couch simpson maggie plot appearances family season character marge lisa bart homer\n",
      "Topic #2: song sung played lyrics lisa performed love treehouse horror theme homer parody\n",
      "Topic #3: homer marge family back tells lenny home plant simpson says flanders carl\n",
      "Topic #4: burns charles montgomery smithers plant nuclear power great springfield employee waylon daphne\n",
      "\n"
     ]
    }
   ],
   "source": [
    "print(\"Second NMF Model with Frobenius Norm:\")\n",
    "print_top_words(nmf2_frob, tfidf_feature_names, 12)"
   ]
  },
  {
   "cell_type": "code",
   "execution_count": 239,
   "metadata": {},
   "outputs": [
    {
     "name": "stdout",
     "output_type": "stream",
     "text": [
      "Second NMF Model with Frobenius Norm:\n",
      "Topic #0: bart lisa springfield school episode krusty simpsons also history milhouse book show\n",
      "Topic #1: couch simpson maggie plot appearances family season character marge lisa bart homer\n",
      "Topic #2: song sung played lyrics lisa performed love treehouse horror theme homer parody\n",
      "Topic #3: homer marge family back tells lenny home plant simpson says flanders carl\n",
      "Topic #4: burns charles montgomery smithers plant nuclear power great springfield employee waylon daphne\n",
      "\n"
     ]
    }
   ],
   "source": [
    "print(\"Second NMF Model with Frobenius Norm:\")\n",
    "print_top_words(nmf2_frob, tfidf_feature_names, 12)"
   ]
  },
  {
   "cell_type": "markdown",
   "metadata": {},
   "source": [
    "This is a more compressed representation of the basic topics we find in this text corpus.\n",
    "There is one topic sorrounding the kids and their life in school and other places.\n",
    "Another prominent, seemingly quite distinct topic, in our text is the concept of couch gags.\n",
    "Besides, we have musical-episodes and other music topics.\n",
    "Another origin of content is the family life at Simpson's between Homer's job at the power plant and his neighboorhood disputes with Flanders.\n",
    "Lastly, the episodes are filled with Homer's work at Mr. Smithers power plant.\n"
   ]
  },
  {
   "cell_type": "markdown",
   "metadata": {},
   "source": [
    "Evaluating NMF with the ground truth used earlier for cluster assignment, does not make alot of sense here. NMF does not make a \"hard assignment\" but any document basically consists of a mixture of all topics. \n",
    "Also, I have the impression, that the classification done in the ground truth follows a different goal than the topic modeling done here."
   ]
  },
  {
   "cell_type": "markdown",
   "metadata": {},
   "source": [
    "Instead, let's further inspect our kMeans result and try to enhance it."
   ]
  },
  {
   "cell_type": "code",
   "execution_count": 329,
   "metadata": {},
   "outputs": [
    {
     "data": {
      "text/plain": [
       "Counter({3: 1167, 2: 7745, 0: 845, 1: 369})"
      ]
     },
     "execution_count": 329,
     "metadata": {},
     "output_type": "execute_result"
    }
   ],
   "source": [
    "#recall the uneven cluster sizes:\n",
    "collections.Counter(fourMeans.labels_)"
   ]
  },
  {
   "cell_type": "code",
   "execution_count": 330,
   "metadata": {},
   "outputs": [
    {
     "data": {
      "text/plain": [
       "(10126,)"
      ]
     },
     "execution_count": 330,
     "metadata": {},
     "output_type": "execute_result"
    }
   ],
   "source": [
    "labels_4M = fourMeans.labels_\n",
    "labels_4M.shape"
   ]
  },
  {
   "cell_type": "markdown",
   "metadata": {},
   "source": [
    "We want to keep cluster assignements 2 and 3, but further cluster such with 0 or 1.\n",
    "So we first define a filter:"
   ]
  },
  {
   "cell_type": "code",
   "execution_count": 347,
   "metadata": {},
   "outputs": [],
   "source": [
    "filter = np.array( [e == 2 or e == 3 for e in labels_4M] )\n"
   ]
  },
  {
   "cell_type": "code",
   "execution_count": 349,
   "metadata": {},
   "outputs": [
    {
     "data": {
      "text/plain": [
       "(8912, 44823)"
      ]
     },
     "execution_count": 349,
     "metadata": {},
     "output_type": "execute_result"
    }
   ],
   "source": [
    "#for indexing a sparse matrix we have to do this extra step:\n",
    "indeces = filter.nonzero()[0]\n",
    "\n",
    "tf_remain = tfidf[indeces,:]\n",
    "tf_remain.shape"
   ]
  },
  {
   "cell_type": "code",
   "execution_count": 350,
   "metadata": {},
   "outputs": [],
   "source": [
    "K = range(1,15) \n",
    "\n",
    "inertia = []\n",
    "pred_label = {}\n",
    "\n",
    "#train the model depending in k and save inertias, and predicted labels\n",
    "for k in K: \n",
    "    kmeanModel = KMeans(n_clusters=k,n_init=3, max_iter=150,tol=0.001, random_state=2706).fit(tf_remain)   \n",
    "      \n",
    "    inertia.append(kmeanModel.inertia_)\n",
    "\n",
    "    pred_label[k] = kmeanModel.labels_"
   ]
  },
  {
   "cell_type": "code",
   "execution_count": 352,
   "metadata": {},
   "outputs": [
    {
     "data": {
      "image/png": "[encoded data removed]",
      "text/plain": [
       "<Figure size 432x288 with 1 Axes>"
      ]
     },
     "metadata": {
      "needs_background": "light"
     },
     "output_type": "display_data"
    }
   ],
   "source": [
    "\n",
    "import matplotlib.pyplot as plt\n",
    "xint= range(0,15)\n",
    "plt.plot(K, inertia, 'bx-') \n",
    "plt.xlabel('Values of K')\n",
    "plt.xticks(xint)\n",
    "plt.ylabel('Inertia') \n",
    "plt.title('The Elbow Plot using Inertia') \n",
    "plt.show() \n"
   ]
  },
  {
   "cell_type": "markdown",
   "metadata": {},
   "source": [
    "We identify the clearest elbow at 11 and retrain our 11Means Model."
   ]
  },
  {
   "cell_type": "code",
   "execution_count": 359,
   "metadata": {},
   "outputs": [],
   "source": [
    "elevenMean = KMeans(n_clusters=11,n_init=3, max_iter=150,tol=0.001, random_state=2706).fit(tf_remain)"
   ]
  },
  {
   "cell_type": "code",
   "execution_count": 369,
   "metadata": {},
   "outputs": [
    {
     "name": "stdout",
     "output_type": "stream",
     "text": [
      "Top terms per cluster:\n",
      "\n",
      "Cluster: 3\n",
      " spuckler itchy scratchy cletus brandine children land park theme show\n",
      "Cluster: 4\n",
      " homer bart marge lisa episode family back springfield tells simpsons\n",
      "Cluster: 5\n",
      " store springfield shop mall located sells street parody towne laughter\n",
      "Cluster: 6\n",
      " bouvier great gurney marcel siblings marceau marge simpson angelique maternal\n",
      "Cluster: 7\n",
      " krusty clown show bart burger sideshow history episode homer springfield\n",
      "Cluster: 8\n",
      " american actor simpsons guest episode born season starred known voiced\n",
      "Cluster: 9\n",
      " burns charles montgomery smithers plant nuclear homer power springfield simpson\n",
      "Cluster: 10\n",
      " school elementary springfield bart lisa skinner student class teacher students\n",
      "Cluster: 11\n",
      " homer springfield simpson history bart lisa marge family also simpsons\n",
      "Cluster: 12\n",
      " book comic books history lisa angelica homer read bart button\n",
      "Cluster: 13\n",
      " wiggum police vehicle truck chief officer level ralph springfield simpsons"
     ]
    }
   ],
   "source": [
    "print(\"Top terms per cluster:\")\n",
    "ordered_centroid = elevenMean.cluster_centers_.argsort()[:, ::-1]\n",
    "terms = vectorizer.get_feature_names()\n",
    "for k in range(11):\n",
    "    print(end='\\n')\n",
    "    print(\"Cluster:\", k+3),\n",
    "    for ind in ordered_centroid[k, :10]:\n",
    "        print(' %s' % terms[ind], end='')\n",
    "        \n",
    "    print"
   ]
  },
  {
   "cell_type": "markdown",
   "metadata": {},
   "source": [
    "I like the results alot better now. \n",
    "Ontop of the two clearly identified clusters from before concerning Couch Gags and Musicals, we were now able to divide what we called \"usual Simpsons Content\" earlier into more distinct cluster, which we can interpret nicely:\n",
    "\n",
    "Cluster number..\n",
    "- #3: Around Cletus Spuckler, his wife and Itchy and Scratchy, which can all be considered as side kicks.\n",
    "- #4: This seems to be the cluster around the Simpsons Family.\n",
    "- #5: Shopping in Springfield's mall.\n",
    "- #6: Seem to be characters higher up Simpsons's family tree.\n",
    "- #7: Crusty Clown Show, and Krusty's Burger.\n",
    "- #8: real-life star guests.\n",
    "- #9: Mr Burns and the nuclear plant.\n",
    "- #10: Springfield's Elementary School.\n",
    "- #11: Another Family Cluster\n",
    "- #12: Lisa's stories around books and angelica\n",
    "- #13: Wiggum, the police officer with his son Ralph"
   ]
  },
  {
   "cell_type": "markdown",
   "metadata": {},
   "source": [
    "In contrast to NMF before, which was more explorative concerning latent topics \"behind\" our text corpus, this is a more direct way to differentiate between actual documents (by measuring their cosine-distance in high-dimensional tf-idf space).\n",
    "\n",
    "This approach would be of good fit, if our boss gave us the task to build a recommendation algorithm for the simpsons wiki. If a reader is on the page of the simpsons wiki, and we want to recommend another article to him, it might make sense to consider articles, which are of the same cluster. For the final decision, which one we actually choose, other information, like user's clicking history would certainly be of help.\n",
    "\n",
    "Prototypical documents can be seen below:"
   ]
  },
  {
   "cell_type": "code",
   "execution_count": 366,
   "metadata": {},
   "outputs": [
    {
     "name": "stdout",
     "output_type": "stream",
     "text": [
      "Most similar documents to cluster centroids\n",
      "___________________\n",
      "Cluster 3\n",
      "1283 Springfield Plasma Center\n",
      "1285 Brian K. Roberts\n",
      "1294 Wesley Spuckler\n",
      "1286 David Sacks\n",
      "1284 Mike Judge\n",
      "1289 Nigel (manager)\n",
      "1280 Capital City Stadium\n",
      "___________________\n",
      "Cluster 4\n",
      "3520 Number 2\n",
      "3522 Ira Glass (character)\n",
      "3521 Sprooklyn Bridge\n",
      "794 Moe Baby Blues\n",
      "4072 Chile\n",
      "141 Moaning Lisa\n",
      "375 Lisa's Pony\n",
      "___________________\n",
      "Cluster 5\n",
      "1247 Springfield Googolplex Theatres\n",
      "71 Springfield\n",
      "7593 Polo Field House\n",
      "1906 Brian Grazer\n",
      "5719 Keith\n",
      "1165 Mrs. Muntz\n",
      "4378 Tarzan couch gag\n",
      "___________________\n",
      "Cluster 6\n",
      "5186 Shelbyville Milhouse's dog\n",
      "1774 In the Name of the Grandfather\n",
      "2743 Joe Frazier\n",
      "1804 Waylon Smithers, Sr.\n",
      "7493 El Sol\n",
      "2744 The Ramones\n",
      "2709 Little Bearded Woman\n",
      "___________________\n",
      "Cluster 7\n",
      "25 Krusty the Clown\n",
      "28 Krusty Gets Busted\n",
      "310 The Shell Game\n",
      "337 Celeste\n",
      "823 Simple Simpson\n",
      "5457 Theodore L'eau\n",
      "6706 Iron Man (song)\n",
      "___________________\n",
      "Cluster 8\n",
      "3385 Sideshow Blob\n",
      "5303 Springfield National Park\n",
      "7120 Principal Sackett\n",
      "864 Mount Seldom\n",
      "6057 Emmanuel Lewis\n",
      "4640 Hardware (Bumtown)\n",
      "4672 Cregg Demon's son\n",
      "___________________\n",
      "Cluster 9\n",
      "12 Charles Montgomery Burns\n",
      "7513 Sid Vicious\n",
      "1436 Hans Zimmer\n",
      "109 Homer the Smithers\n",
      "2318 The Homer Impostor\n",
      "354 Shoplifting\n",
      "24 Waylon Smithers, Jr.\n",
      "___________________\n",
      "Cluster 10\n",
      "120 Springfield Elementary School\n",
      "26 Seymour Skinner\n",
      "3521 Sprooklyn Bridge\n",
      "8770 Tuesday Afternoon\n",
      "1131 Gummi Venus de Milo\n",
      "3513 Mayo Clinic Doctor\n",
      "4840 Hail to Me\n",
      "___________________\n",
      "Cluster 11\n",
      "3520 Number 2\n",
      "3521 Sprooklyn Bridge\n",
      "3522 Ira Glass (character)\n",
      "14 Abraham Simpson II\n",
      "3523 Head Judge\n",
      "1991 Calvin\n",
      "959 John DiMaggio\n",
      "___________________\n",
      "Cluster 12\n",
      "15 Comic Book Guy\n",
      "5759 Mr. Palaccio\n",
      "3584 The Tam O'Shanter Connection\n",
      "8007 On The Dark Side\n",
      "3587 Angry Dad: The Movie\n",
      "5848 Belle (senior)\n",
      "672 Renee\n",
      "___________________\n",
      "Cluster 13\n",
      "84 Clancy Wiggum\n",
      "1084 Unproduced episodes\n",
      "2664 Prudence\n",
      "7060 Trudy Zangler\n",
      "5277 Trucker 3\n",
      "62 Lou\n",
      "2680 Gurney family\n"
     ]
    }
   ],
   "source": [
    "centroids_11 = elevenMean.cluster_centers_\n",
    "centroid_doc_dist = pairwise_distances(X=tf_remain, Y=centroids_11, metric='cosine')\n",
    "print(\"Most similar documents to cluster centroids\")\n",
    "for j in range(11):\n",
    "    doc_inds = centroid_doc_dist[:,j].argsort()\n",
    "    print(\"___________________\")\n",
    "    print(\"Cluster\", j+3)\n",
    "    \n",
    "    for i in range(7):\n",
    "        index=doc_inds[i]\n",
    "        title = raw[index]['title']\n",
    "        print(index,title)"
   ]
  }
 ],
 "metadata": {
  "kernelspec": {
   "display_name": "Python 3",
   "language": "python",
   "name": "python3"
  },
  "language_info": {
   "codemirror_mode": {
    "name": "ipython",
    "version": 3
   },
   "file_extension": ".py",
   "mimetype": "text/x-python",
   "name": "python",
   "nbconvert_exporter": "python",
   "pygments_lexer": "ipython3",
   "version": "3.7.6"
  }
 },
 "nbformat": 4,
 "nbformat_minor": 4
}
